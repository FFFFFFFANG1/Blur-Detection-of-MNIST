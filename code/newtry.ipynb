{
 "cells": [
  {
   "cell_type": "code",
   "execution_count": 2,
   "metadata": {},
   "outputs": [
    {
     "name": "stdout",
     "output_type": "stream",
     "text": [
      "(40000, 784)\n",
      "(40000,)\n",
      "[0. 0. 1. ... 1. 0. 0.]\n",
      "(10000,)\n",
      "[1. 0. 1. ... 1. 1. 1.]\n"
     ]
    }
   ],
   "source": [
    "import numpy as np\n",
    "import importlib\n",
    "import func\n",
    "importlib.reload(func)\n",
    "\n",
    "# loading data and labels\n",
    "train_data = np.load('train_array.npy')\n",
    "test_data = np.load('test_array.npy')\n",
    "val_data = np.load('val_array.npy')\n",
    "train_labels = np.load('train_labels.npy')\n",
    "val_labels = np.load('val_labels.npy')\n",
    "print(train_data.shape)\n",
    "\n",
    "# get the modified 0 & 1 labels\n",
    "train_labels_modified = np.zeros(len(train_labels))\n",
    "val_labels_modified = np.zeros(len(val_labels))\n",
    "for i in range(len(train_labels)):\n",
    "    if train_labels[i] == 1:\n",
    "        train_labels_modified[i] = 1\n",
    "    else:\n",
    "        train_labels_modified[i] = 0\n",
    "for i in range(len(val_labels)):\n",
    "    if val_labels[i] == 1:\n",
    "        val_labels_modified[i] = 1\n",
    "    else:\n",
    "        val_labels_modified[i] = 0\n",
    "\n",
    "print(train_labels_modified.shape)\n",
    "print(train_labels_modified)\n",
    "print(val_labels_modified.shape)\n",
    "print(val_labels_modified)"
   ]
  },
  {
   "cell_type": "code",
   "execution_count": 3,
   "metadata": {},
   "outputs": [
    {
     "name": "stdout",
     "output_type": "stream",
     "text": [
      "(40000, 50)\n"
     ]
    }
   ],
   "source": [
    "# data preprocessing\n",
    "train_extracted = np.load('train_extracted.npy')\n",
    "val_extracted = np.load('val_extracted.npy')\n",
    "test_extracted = np.load('test_extracted.npy')\n",
    "print(train_extracted.shape)"
   ]
  },
  {
   "cell_type": "code",
   "execution_count": 10,
   "metadata": {},
   "outputs": [
    {
     "name": "stdout",
     "output_type": "stream",
     "text": [
      "Iteration:  0 Sample:  0\n",
      "Iteration:  0 Sample:  10000\n",
      "Iteration:  0 Sample:  20000\n",
      "Iteration:  0 Sample:  30000\n",
      "Iteration:  10 Sample:  0\n",
      "Iteration:  10 Sample:  10000\n",
      "Iteration:  10 Sample:  20000\n",
      "Iteration:  10 Sample:  30000\n",
      "Iteration:  20 Sample:  0\n",
      "Iteration:  20 Sample:  10000\n",
      "Iteration:  20 Sample:  20000\n",
      "Iteration:  20 Sample:  30000\n",
      "Iteration:  30 Sample:  0\n",
      "Iteration:  30 Sample:  10000\n",
      "Iteration:  30 Sample:  20000\n",
      "Iteration:  30 Sample:  30000\n",
      "Iteration:  40 Sample:  0\n",
      "Iteration:  40 Sample:  10000\n",
      "Iteration:  40 Sample:  20000\n",
      "Iteration:  40 Sample:  30000\n",
      "Iteration:  50 Sample:  0\n",
      "Iteration:  50 Sample:  10000\n",
      "Iteration:  50 Sample:  20000\n",
      "Iteration:  50 Sample:  30000\n",
      "Iteration:  60 Sample:  0\n",
      "Iteration:  60 Sample:  10000\n",
      "Iteration:  60 Sample:  20000\n",
      "Iteration:  60 Sample:  30000\n",
      "Iteration:  70 Sample:  0\n",
      "Iteration:  70 Sample:  10000\n",
      "Iteration:  70 Sample:  20000\n",
      "Iteration:  70 Sample:  30000\n",
      "Iteration:  80 Sample:  0\n",
      "Iteration:  80 Sample:  10000\n",
      "Iteration:  80 Sample:  20000\n",
      "Iteration:  80 Sample:  30000\n",
      "Iteration:  90 Sample:  0\n",
      "Iteration:  90 Sample:  10000\n",
      "Iteration:  90 Sample:  20000\n",
      "Iteration:  90 Sample:  30000\n"
     ]
    }
   ],
   "source": [
    "# regression\n",
    "import perceptron\n",
    "importlib.reload(perceptron)\n",
    "\n",
    "output = perceptron.classifyPerceptron(train_data, train_labels_modified, test_data, 100)\n",
    "\n"
   ]
  },
  {
   "cell_type": "code",
   "execution_count": null,
   "metadata": {},
   "outputs": [],
   "source": [
    "test_pred = []\n",
    "for i in range(len(test_data)):\n",
    "    if output[i] == 1:\n",
    "        test_pred.append(1)\n",
    "    else:\n",
    "        test_pred.append(-1)"
   ]
  },
  {
   "cell_type": "code",
   "execution_count": null,
   "metadata": {},
   "outputs": [],
   "source": [
    "input_file = 'cig_interview_data/test.txt'\n",
    "output_file = 'cig_interview_data/test_PERCP.txt'\n",
    "\n",
    "with open(input_file, 'r') as f:\n",
    "    lines = f.readlines()\n",
    "\n",
    "assert len(lines) == len(test_pred)\n",
    "\n",
    "modified_lines = [line.rstrip('0\\n') + str(test_pred[i]) + '\\n' for i, line in enumerate(lines)]\n",
    "\n",
    "with open(output_file, 'w') as f:\n",
    "    f.writelines(modified_lines)"
   ]
  }
 ],
 "metadata": {
  "kernelspec": {
   "display_name": "Python 3",
   "language": "python",
   "name": "python3"
  },
  "language_info": {
   "codemirror_mode": {
    "name": "ipython",
    "version": 3
   },
   "file_extension": ".py",
   "mimetype": "text/x-python",
   "name": "python",
   "nbconvert_exporter": "python",
   "pygments_lexer": "ipython3",
   "version": "3.10.5"
  }
 },
 "nbformat": 4,
 "nbformat_minor": 2
}
