{
 "cells": [
  {
   "cell_type": "markdown",
   "metadata": {},
   "source": [
    "For train dataset:"
   ]
  },
  {
   "cell_type": "code",
   "execution_count": 26,
   "metadata": {},
   "outputs": [
    {
     "name": "stdout",
     "output_type": "stream",
     "text": [
      "Processed 1000 images\n",
      "Processed 2000 images\n",
      "Processed 3000 images\n",
      "Processed 4000 images\n",
      "Processed 5000 images\n",
      "Processed 6000 images\n",
      "Processed 7000 images\n",
      "Processed 8000 images\n",
      "Processed 9000 images\n",
      "Processed 10000 images\n",
      "Processed 11000 images\n",
      "Processed 12000 images\n",
      "Processed 13000 images\n",
      "Processed 14000 images\n",
      "Processed 15000 images\n",
      "Processed 16000 images\n",
      "Processed 17000 images\n",
      "Processed 18000 images\n",
      "Processed 19000 images\n",
      "Processed 20000 images\n",
      "Processed 21000 images\n",
      "Processed 22000 images\n",
      "Processed 23000 images\n",
      "Processed 24000 images\n",
      "Processed 25000 images\n",
      "Processed 26000 images\n",
      "Processed 27000 images\n",
      "Processed 28000 images\n",
      "Processed 29000 images\n",
      "Processed 30000 images\n",
      "Processed 31000 images\n",
      "Processed 32000 images\n",
      "Processed 33000 images\n",
      "Processed 34000 images\n",
      "Processed 35000 images\n",
      "Processed 36000 images\n",
      "Processed 37000 images\n",
      "Processed 38000 images\n",
      "Processed 39000 images\n",
      "Processed 40000 images\n"
     ]
    }
   ],
   "source": [
    "import numpy as np\n",
    "from skimage.io import imread\n",
    "from skimage.transform import resize\n",
    "import os\n",
    "\n",
    "num_train = 39999\n",
    "image_dir = 'cig_interview_data\\image_data'\n",
    "image_paths = [os.path.join(image_dir, f'train_{i:05}.png') for i in range(num_train+1)]\n",
    "\n",
    "flattened_images = []\n",
    "i = 0\n",
    "for path in image_paths:\n",
    "    image = imread(path) # BW pngs, no greyscale\n",
    "    flattened_images.append(image.flatten()) # convert it into a single vector\n",
    "    i += 1\n",
    "    if i % 1000 == 0:\n",
    "        print(f'Processed {i} images')\n",
    "train_array = np.array(flattened_images)\n",
    "print(train_array.shape)\n",
    "train_array = np.save('train_array.npy', train_array)\n",
    "\n",
    "# from sklearn.decomposition import PCA\n",
    "# X = np.load('train_array.npy')\n",
    "# # X = X.T\n",
    "# train_extracted = PCA(n_components=100).fit_transform(X)\n",
    "# print(train_extracted.shape)\n",
    "# np.save('train_extracted.npy', train_extracted)"
   ]
  },
  {
   "cell_type": "code",
   "execution_count": 27,
   "metadata": {},
   "outputs": [
    {
     "name": "stdout",
     "output_type": "stream",
     "text": [
      "(40000, 784)\n"
     ]
    }
   ],
   "source": [
    "# train_array = np.array(flattened_images)\n",
    "# print(train_array.shape)\n",
    "# train_array = np.save('train_array.npy', train_array)"
   ]
  },
  {
   "cell_type": "code",
   "execution_count": 28,
   "metadata": {},
   "outputs": [],
   "source": [
    "# train_array = np.save('train_array.npy', train_array)"
   ]
  },
  {
   "cell_type": "code",
   "execution_count": 4,
   "metadata": {},
   "outputs": [],
   "source": [
    "# import numpy as np\n",
    "# from sklearn.decomposition import PCA\n",
    "# X = np.load('train_array.npy')\n",
    "# # X = X.T\n",
    "# train_extracted = PCA(n_components=100).fit_transform(X)\n",
    "# np.save('train_extracted.npy', train_extracted)\n"
   ]
  },
  {
   "cell_type": "code",
   "execution_count": 5,
   "metadata": {},
   "outputs": [],
   "source": [
    "# print(train_extracted.shape)\n",
    "# np.save('train_extracted.npy', train_extracted)"
   ]
  },
  {
   "cell_type": "code",
   "execution_count": 6,
   "metadata": {},
   "outputs": [],
   "source": [
    "import numpy as np\n",
    "train_labels = []\n",
    "with open('cig_interview_data/train.txt', 'r') as f:\n",
    "    for line in f:\n",
    "        label = int(line.strip().split()[-1])\n",
    "        train_labels.append(label)\n",
    "train_labels = np.array(train_labels)\n",
    "print(train_labels)\n",
    "print(train_labels.shape)\n",
    "np.save('train_labels.npy', train_labels)\n"
   ]
  },
  {
   "cell_type": "markdown",
   "metadata": {},
   "source": [
    "For validity dataset"
   ]
  },
  {
   "cell_type": "code",
   "execution_count": 29,
   "metadata": {},
   "outputs": [
    {
     "name": "stdout",
     "output_type": "stream",
     "text": [
      "Processed 1000 images\n",
      "Processed 2000 images\n",
      "Processed 3000 images\n",
      "Processed 4000 images\n",
      "Processed 5000 images\n",
      "Processed 6000 images\n",
      "Processed 7000 images\n",
      "Processed 8000 images\n",
      "Processed 9000 images\n",
      "Processed 10000 images\n",
      "(10000, 784)\n"
     ]
    }
   ],
   "source": [
    "# import numpy as np\n",
    "# from skimage.io import imread\n",
    "# from skimage.transform import resize\n",
    "# import os\n",
    "\n",
    "# num_train = 9999\n",
    "# image_dir = 'cig_interview_data\\image_data'\n",
    "# image_paths = [os.path.join(image_dir, f'val_{i:05}.png') for i in range(num_train+1)]\n",
    "\n",
    "# flattened_images = []\n",
    "# i = 0\n",
    "# for path in image_paths:\n",
    "#     image = imread(path) # BW pngs, no greyscale\n",
    "#     flattened_images.append(image.flatten()) # convert it into a single vector\n",
    "#     i += 1\n",
    "#     if i % 1000 == 0:\n",
    "#         print(f'Processed {i} images')\n",
    "# # print(flattened_images.shape)\n",
    "# val_array = np.array(flattened_images)\n",
    "# print(val_array.shape)\n",
    "# val_array = np.save('val_array.npy', val_array)"
   ]
  },
  {
   "cell_type": "code",
   "execution_count": 8,
   "metadata": {},
   "outputs": [],
   "source": [
    "# import numpy as np\n",
    "# val_labels = []\n",
    "# with open('cig_interview_data/val.txt', 'r') as f:\n",
    "#     for line in f:\n",
    "#         label = int(line.strip().split()[-1])\n",
    "#         val_labels.append(label)\n",
    "# val_labels = np.array(val_labels)\n",
    "# print(val_labels)\n",
    "# print(val_labels.shape)\n",
    "# np.save('val_labels.npy', val_labels)"
   ]
  },
  {
   "cell_type": "code",
   "execution_count": 9,
   "metadata": {},
   "outputs": [],
   "source": [
    "# from sklearn.decomposition import PCA\n",
    "# X = np.load('val_array.npy')\n",
    "# # X = X.T\n",
    "# val_extracted = PCA(n_components=100).fit_transform(X)\n",
    "# print(val_extracted.shape)\n",
    "# np.save('val_extracted.npy', val_extracted)"
   ]
  },
  {
   "cell_type": "markdown",
   "metadata": {},
   "source": [
    "For test dataset"
   ]
  },
  {
   "cell_type": "code",
   "execution_count": 30,
   "metadata": {},
   "outputs": [
    {
     "name": "stdout",
     "output_type": "stream",
     "text": [
      "Processed 1000 images\n",
      "Processed 2000 images\n",
      "Processed 3000 images\n",
      "Processed 4000 images\n",
      "Processed 5000 images\n",
      "Processed 6000 images\n",
      "Processed 7000 images\n",
      "Processed 8000 images\n",
      "(8000, 784)\n"
     ]
    }
   ],
   "source": [
    "import numpy as np\n",
    "from skimage.io import imread\n",
    "from skimage.transform import resize\n",
    "import os\n",
    "\n",
    "num_train = 7999\n",
    "image_dir = 'cig_interview_data\\image_data'\n",
    "image_paths = [os.path.join(image_dir, f'test_{i:05}.png') for i in range(num_train+1)]\n",
    "\n",
    "flattened_images = []\n",
    "i = 0\n",
    "for path in image_paths:\n",
    "    image = imread(path) # BW pngs, no greyscale\n",
    "    flattened_images.append(image.flatten()) # convert it into a single vector\n",
    "    i += 1\n",
    "    if i % 1000 == 0:\n",
    "        print(f'Processed {i} images')\n",
    "# print(flattened_images.shape)\n",
    "test_array = np.array(flattened_images)\n",
    "print(test_array.shape)\n",
    "test_array = np.save('test_array.npy', test_array)"
   ]
  },
  {
   "cell_type": "markdown",
   "metadata": {},
   "source": [
    "Loading vectors"
   ]
  },
  {
   "cell_type": "code",
   "execution_count": 40,
   "metadata": {},
   "outputs": [
    {
     "name": "stdout",
     "output_type": "stream",
     "text": [
      "(40000, 50)\n",
      "(10000, 50)\n",
      "(8000, 50)\n"
     ]
    }
   ],
   "source": [
    "import numpy as np\n",
    "from sklearn.decomposition import PCA\n",
    "pca = PCA(n_components=50)\n",
    "\n",
    "X = np.load('train_array.npy')\n",
    "# X = X.T\n",
    "# X = X/255\n",
    "pca.fit(X)\n",
    "train_extracted = pca.transform(X)\n",
    "\n",
    "\n",
    "X = np.load('val_array.npy')\n",
    "# X = X.T\n",
    "# X = X/255\n",
    "pca.fit(X)\n",
    "val_extracted = pca.transform(X)\n",
    "\n",
    "X = np.load('test_array.npy')\n",
    "# X = X.T\n",
    "# X = X/255\n",
    "pca.fit(X)\n",
    "test_extracted = pca.transform(X)\n",
    "\n",
    "print(train_extracted.shape)\n",
    "print(val_extracted.shape)\n",
    "print(test_extracted.shape)\n",
    "\n"
   ]
  },
  {
   "cell_type": "code",
   "execution_count": 45,
   "metadata": {},
   "outputs": [
    {
     "name": "stdout",
     "output_type": "stream",
     "text": [
      "[ 3.08490845e-01  5.40892766e-01 -4.95091111e-01 -2.83675771e-01\n",
      "  4.07806610e-01 -1.46928815e+00 -9.95942972e-01 -1.03840336e+00\n",
      "  3.88014215e-01 -6.47438696e-01  8.27457400e-01  1.51802236e+00\n",
      "  2.83964530e-01 -1.15306499e+00 -5.27466062e-02 -4.39425173e-01\n",
      " -1.35362856e+00 -1.70007252e-01 -3.39535648e-01 -2.98852195e-01\n",
      " -6.88410727e-01  1.25613575e-02 -7.45957606e-01 -8.68734505e-01\n",
      " -7.43821800e-01  4.79095118e-01  1.06058836e-02 -3.34939402e-04\n",
      " -6.79681274e-01  4.46367220e-01  9.51997003e-01 -2.04021470e-01\n",
      " -9.59693272e-02  8.04434685e-01 -6.41968452e-01  4.77017677e-01\n",
      "  8.33615292e-01 -1.26902435e+00 -1.56406205e-01  2.54104829e-01\n",
      "  2.21527792e-01 -3.79203873e-01 -5.46149895e-03  6.39304568e-02\n",
      "  4.13406531e-01  1.06801148e+00 -6.02556799e-01 -5.80086562e-01\n",
      " -6.22260023e-01  4.26218705e-01]\n",
      "40000\n"
     ]
    }
   ],
   "source": [
    "print(train_extracted[0])\n",
    "print(train_extracted.shape[0])"
   ]
  },
  {
   "cell_type": "code",
   "execution_count": 42,
   "metadata": {},
   "outputs": [],
   "source": [
    "# normalization\n",
    "train_mean = np.mean(train_extracted, axis=0)\n",
    "train_std = np.std(train_extracted, axis=0)\n",
    "train_extracted = (train_extracted - train_mean) / train_std\n",
    "val_extracted = (val_extracted - train_mean) / train_std\n",
    "test_extracted = (test_extracted - train_mean) / train_std\n"
   ]
  },
  {
   "cell_type": "code",
   "execution_count": 32,
   "metadata": {},
   "outputs": [
    {
     "name": "stdout",
     "output_type": "stream",
     "text": [
      "[ 6.29034274e-01  8.42520313e-01 -7.39554082e-01 -3.99869251e-01\n",
      "  5.63516879e-01 -1.79778325e+00 -1.08963324e+00 -1.04846037e+00\n",
      "  3.81836424e-01 -5.45452016e-01  6.71534787e-01  1.19355390e+00\n",
      "  2.12320913e-01 -8.26404670e-01 -3.70417299e-02 -3.01814806e-01\n",
      " -8.79937408e-01 -1.07077346e-01 -2.01570488e-01 -1.74820856e-01\n",
      " -3.81767299e-01  6.84909341e-03 -4.01723838e-01 -4.48717959e-01\n",
      " -3.78288313e-01  2.37790215e-01  5.19960094e-03 -1.51722177e-04\n",
      " -3.19170000e-01  2.04359656e-01  4.28861205e-01 -8.71997703e-02\n",
      " -4.09203625e-02  3.39554117e-01 -2.65731623e-01  1.88364836e-01\n",
      "  3.21973935e-01 -4.82328208e-01 -5.80196164e-02  9.25022755e-02\n",
      "  7.93293571e-02 -1.36223756e-01 -6.94027315e-04  1.88358988e-02\n",
      " -1.38439411e-01  3.55521508e-01 -1.92172334e-01 -1.82400120e-01\n",
      " -2.06871682e-01 -1.56839816e-01]\n"
     ]
    }
   ],
   "source": [
    "np.save('train_extracted.npy', train_extracted)\n",
    "np.save('test_extracted.npy', test_extracted)\n",
    "np.save('val_extracted.npy', val_extracted)\n",
    "print(train_extracted[0])"
   ]
  },
  {
   "cell_type": "code",
   "execution_count": 33,
   "metadata": {},
   "outputs": [],
   "source": [
    "train_labels = np.load('train_labels.npy')\n",
    "val_labels = np.load('val_labels.npy')"
   ]
  },
  {
   "cell_type": "markdown",
   "metadata": {},
   "source": [
    "Data normalization"
   ]
  },
  {
   "cell_type": "code",
   "execution_count": 15,
   "metadata": {},
   "outputs": [
    {
     "name": "stdout",
     "output_type": "stream",
     "text": [
      "[ 3.08490845e-01  5.40892766e-01 -4.95091111e-01 -2.83675771e-01\n",
      "  4.07806610e-01 -1.46928815e+00 -9.95942972e-01 -1.03840336e+00\n",
      "  3.88014215e-01 -6.47438698e-01  8.27457402e-01  1.51802235e+00\n",
      "  2.83964523e-01 -1.15306501e+00 -5.27466385e-02 -4.39425184e-01\n",
      " -1.35362869e+00 -1.70007245e-01 -3.39535033e-01 -2.98852880e-01\n",
      " -6.88411056e-01  1.25625455e-02 -7.45955225e-01 -8.68733215e-01\n",
      " -7.43815313e-01  4.79091111e-01  1.05934713e-02 -3.45233442e-04\n",
      " -6.79681560e-01  4.46375115e-01  9.51990446e-01 -2.03975707e-01\n",
      " -9.65410198e-02  8.04308373e-01 -6.41859936e-01 -4.78387284e-01\n",
      "  8.36221143e-01 -1.26967528e+00 -1.60384861e-01  2.54821036e-01\n",
      "  2.16818140e-01 -3.83164496e-01 -1.07930280e-02  7.08513464e-02\n",
      "  4.26032478e-01  1.05727748e+00 -5.62051114e-01 -5.94991763e-01\n",
      " -6.97500798e-01  3.17511097e-01]\n"
     ]
    }
   ],
   "source": [
    "train_mean = np.mean(train_extracted, axis=0)\n",
    "train_std = np.std(train_extracted, axis=0)\n",
    "train_extracted = (train_extracted - train_mean) / train_std\n",
    "val_extracted = (val_extracted - train_mean) / train_std\n",
    "test_extracted = (test_extracted - train_mean) / train_std\n",
    "\n",
    "np.save('train_extracted_norm.npy', train_extracted)\n",
    "np.save('val_extracted_norm.npy', val_extracted)\n",
    "np.save('test_extracted_norm.npy', test_extracted)\n",
    "print(train_extracted[0])"
   ]
  },
  {
   "cell_type": "code",
   "execution_count": 21,
   "metadata": {},
   "outputs": [
    {
     "name": "stdout",
     "output_type": "stream",
     "text": [
      "[ 6.29034274e-01  8.42520313e-01 -7.39554082e-01 -3.99869251e-01\n",
      "  5.63516879e-01 -1.79778325e+00 -1.08963324e+00 -1.04846037e+00\n",
      "  3.81836424e-01 -5.45452017e-01  6.71534786e-01  1.19355391e+00\n",
      "  2.12320916e-01 -8.26404629e-01 -3.70417015e-02 -3.01814713e-01\n",
      " -8.79937289e-01 -1.07077412e-01 -2.01569963e-01 -1.74821018e-01\n",
      " -3.81766354e-01  6.84584954e-03 -4.01721386e-01 -4.48715845e-01\n",
      " -3.78279533e-01  2.37791853e-01  5.19180267e-03 -1.52156366e-04\n",
      " -3.19157664e-01  2.04369339e-01  4.28845580e-01 -8.70992845e-02\n",
      " -4.09684078e-02  3.39619266e-01 -2.66083148e-01  1.87962795e-01\n",
      "  3.22041797e-01 -4.83302999e-01 -5.82971379e-02  9.26171981e-02\n",
      "  8.16879865e-02 -1.38587965e-01 -7.82127838e-04  2.04770651e-02\n",
      " -1.35985217e-01  3.56861480e-01 -1.90108176e-01 -1.91814023e-01\n",
      "  1.99564993e-01  1.27943529e-01]\n"
     ]
    }
   ],
   "source": [
    "train_extracted = np.load('train_extracted.npy')\n",
    "val_extracted = np.load('val_extracted.npy')\n",
    "test_extracted = np.load('test_extracted.npy')\n",
    "print(train_extracted[0])"
   ]
  },
  {
   "cell_type": "markdown",
   "metadata": {},
   "source": [
    "Logistic regression"
   ]
  },
  {
   "cell_type": "code",
   "execution_count": 38,
   "metadata": {},
   "outputs": [
    {
     "name": "stdout",
     "output_type": "stream",
     "text": [
      "(50,)\n",
      "(50,)\n"
     ]
    }
   ],
   "source": [
    "import importlib\n",
    "import func\n",
    "importlib.reload(func)\n",
    "# linear regression\n",
    "batch_size = 1000\n",
    "lr = 5\n",
    "epochs = 100\n",
    "# set init parameters\n",
    "W = np.random.randn(train_extracted.shape[1])\n",
    "b = np.zeros(1)\n",
    "print(W.shape)\n",
    "\n",
    "X = train_extracted\n",
    "y = train_labels\n",
    "for i in range(len(train_labels)):\n",
    "    if train_labels[i] == -1:\n",
    "        train_labels[i] = 0\n",
    "# print(y)\n",
    "print(X[0].shape)\n"
   ]
  },
  {
   "cell_type": "code",
   "execution_count": 39,
   "metadata": {},
   "outputs": [],
   "source": [
    "# for i in range(len(train_extracted)//batch_size):\n",
    "#     X = train_extracted[i*batch_size:(i+1)*batch_size]\n",
    "#     y = train_labels[i*batch_size:(i+1)*batch_size]\n",
    "W_trained, b_trained = func.logistic_regression(X, y, W, b, lr, epochs)\n",
    "    # print(f'Batch {i+1} trained')"
   ]
  },
  {
   "cell_type": "markdown",
   "metadata": {},
   "source": [
    "Demo on sklearn"
   ]
  },
  {
   "cell_type": "code",
   "execution_count": 18,
   "metadata": {},
   "outputs": [
    {
     "name": "stdout",
     "output_type": "stream",
     "text": [
      "Accuracy of logistic regression classifier on val set: 0.86\n"
     ]
    }
   ],
   "source": [
    "from sklearn.metrics import accuracy_score\n",
    "from sklearn.model_selection import train_test_split\n",
    "from sklearn.linear_model import LogisticRegression\n",
    "\n",
    "# train = np.load('train_extracted.npy')\n",
    "train = train_extracted\n",
    "X_train, X_val, y_train, y_val = train_test_split(train, train_labels, test_size=0.2, random_state=42)\n",
    "logreg = LogisticRegression()\n",
    "logreg.fit(X_train, y_train)\n",
    "y_pred = logreg.predict(X_val)\n",
    "\n",
    "print('Accuracy of logistic regression classifier on val set: {:.2f}'.format(accuracy_score(y_val, y_pred)))"
   ]
  },
  {
   "cell_type": "markdown",
   "metadata": {},
   "source": [
    "Evaluation on test set"
   ]
  },
  {
   "cell_type": "code",
   "execution_count": 19,
   "metadata": {},
   "outputs": [
    {
     "name": "stdout",
     "output_type": "stream",
     "text": [
      "(40000, 50)\n",
      "(50,)\n",
      "[ 1 -1  1  1 -1 -1  1  1  1 -1 -1  1  1  1  1  1 -1  1  1  1]\n",
      "Accuracy on train data: 0.717875\n"
     ]
    },
    {
     "name": "stderr",
     "output_type": "stream",
     "text": [
      "e:\\CIG report\\func.py:25: RuntimeWarning: overflow encountered in exp\n",
      "  return 1 / (1 + np.exp(-z))\n"
     ]
    }
   ],
   "source": [
    "\n",
    "test_on_train = 0\n",
    "test_on_train_labels = np.load('train_labels.npy')\n",
    "test_on_train_data = train_extracted\n",
    "test_on_train_data = train_extracted\n",
    "print(test_on_train_data.shape)\n",
    "print(W_trained.shape)\n",
    "output = func.predict( W_trained, b_trained, test_on_train_data)\n",
    "print(output[0:20])\n",
    "for i in range(len(output)):\n",
    "    if output[i] == test_on_train_labels[i]:\n",
    "        test_on_train += 1\n",
    "print('Accuracy on train data:', test_on_train/len(output))\n"
   ]
  },
  {
   "cell_type": "markdown",
   "metadata": {},
   "source": [
    "Evaluation on val set"
   ]
  },
  {
   "cell_type": "code",
   "execution_count": 20,
   "metadata": {},
   "outputs": [
    {
     "name": "stdout",
     "output_type": "stream",
     "text": [
      "(10000, 50)\n",
      "(50,)\n",
      "val_labels: [ 1 -1  1 -1  1  1  1 -1  1 -1  1 -1  1  1 -1  1  1 -1 -1  1]\n",
      "output: [-1  1  1  1  1  1  1 -1  1  1  1 -1  1 -1 -1  1 -1  1  1  1]\n",
      "Accuracy on val data: 0.4345\n"
     ]
    }
   ],
   "source": [
    "test_on_val = 0\n",
    "test_on_val_labels = val_labels\n",
    "test_on_val_data = val_extracted\n",
    "print(test_on_val_data.shape)\n",
    "print(W_trained.shape)\n",
    "output = func.predict( W_trained, b_trained, test_on_val_data)\n",
    "# output = output*2 -1\n",
    "for i in range(len(output)):\n",
    "    if output[i] == test_on_val_labels[i]:\n",
    "        test_on_val += 1\n",
    "print('val_labels:', val_labels[0:20])\n",
    "print('output:', output[0:20])\n",
    "print('Accuracy on val data:', test_on_val/len(output))"
   ]
  },
  {
   "cell_type": "markdown",
   "metadata": {},
   "source": [
    "Evaluation in total"
   ]
  },
  {
   "cell_type": "code",
   "execution_count": 39,
   "metadata": {},
   "outputs": [
    {
     "name": "stdout",
     "output_type": "stream",
     "text": [
      "(40000, 50)\n",
      "40000\n",
      "[ 6.29034274e-01  8.42520313e-01 -7.39554082e-01 -3.99869251e-01\n",
      "  5.63516879e-01 -1.79778325e+00 -1.08963324e+00 -1.04846037e+00\n",
      "  3.81836424e-01 -5.45452016e-01  6.71534787e-01  1.19355390e+00\n",
      "  2.12320913e-01 -8.26404670e-01 -3.70417299e-02 -3.01814806e-01\n",
      " -8.79937408e-01 -1.07077346e-01 -2.01570488e-01 -1.74820856e-01\n",
      " -3.81767299e-01  6.84909341e-03 -4.01723838e-01 -4.48717959e-01\n",
      " -3.78288313e-01  2.37790215e-01  5.19960094e-03 -1.51722177e-04\n",
      " -3.19170000e-01  2.04359656e-01  4.28861205e-01 -8.71997703e-02\n",
      " -4.09203625e-02  3.39554117e-01 -2.65731623e-01  1.88364836e-01\n",
      "  3.21973935e-01 -4.82328208e-01 -5.80196164e-02  9.25022755e-02\n",
      "  7.93293571e-02 -1.36223756e-01 -6.94027315e-04  1.88358988e-02\n",
      " -1.38439411e-01  3.55521508e-01 -1.92172334e-01 -1.82400120e-01\n",
      " -2.06871682e-01 -1.56839816e-01]\n"
     ]
    }
   ],
   "source": [
    "train_extracted = np.load('train_extracted.npy')\n",
    "print(train_extracted.shape)\n",
    "print(train_extracted.shape[0])\n",
    "print(train_extracted[0])"
   ]
  },
  {
   "cell_type": "code",
   "execution_count": 74,
   "metadata": {},
   "outputs": [
    {
     "name": "stdout",
     "output_type": "stream",
     "text": [
      "[ 2.55517838  1.73481314 -0.07983393 -2.67202864  0.79750885  1.08368236\n",
      "  1.63591889 -0.09120503  4.03273194 -0.7081972  -0.67751075 -0.37808116\n",
      "  0.43004695  1.88353328  0.18680682 -1.10105838 -0.46717331  0.30800886\n",
      "  0.44449396 -0.27138106  0.23234559 -0.98250057  0.26713974  0.21141605\n",
      " -1.2360261  -0.59279232  0.42761098  0.49842503 -0.93551287 -1.60815667\n",
      " -0.65015358  0.46192083  0.22226281 -0.15318334  1.05394215  0.43690773\n",
      "  0.59257439  0.46047496 -0.06509179 -0.87828225  0.03138278  0.42153747\n",
      " -0.55580888 -0.26952869  0.19208895 -0.5962114   0.82519744  0.20958846\n",
      "  0.65329493  0.6363434 ]\n",
      "(40000, 50)\n",
      "(50,)\n",
      "(40000,)\n",
      "lr: 0.01, epochs: 100, acc_val: 0.5355, acc_train: 0.264475\n",
      "[ 1.  1.  1. -1. -1.  1. -1. -1.  1. -1.  1. -1.  1. -1. -1.  1.  1.  1.\n",
      " -1. -1.]\n",
      "(40000,)\n"
     ]
    }
   ],
   "source": [
    "import matplotlib.pyplot as plt \n",
    "from mpl_toolkits.mplot3d import Axes3D\n",
    "import importlib\n",
    "import func\n",
    "import numpy as np\n",
    "importlib.reload(func)\n",
    "\n",
    "lr = [0.01]\n",
    "epochs = [100]\n",
    "acc_val = []\n",
    "acc_train = []\n",
    "train = np.load('train_extracted.npy')\n",
    "# train = train/255\n",
    "train_test = train[:,1000: 2000]\n",
    "train = train[:,0:1000]\n",
    "val = np.load('val_extracted.npy')\n",
    "# val = val/255\n",
    "train_labels = np.load('train_labels.npy')\n",
    "val_labels = np.load('val_labels.npy')\n",
    "for i in range(len(train_labels)):\n",
    "    if train_labels[i] == -1:\n",
    "        train_labels[i] = 0\n",
    "print(train[2])\n",
    "print(train.shape)\n",
    "# in this case, X has already been transposed\n",
    "for l in lr:\n",
    "    for e in epochs:\n",
    "        W = np.random.randn(train.shape[1])\n",
    "        b = np.zeros(1)\n",
    "        print(W.shape)\n",
    "        tr = np.dot(train, W) + b\n",
    "        print(tr.shape)\n",
    "        W_trained, b_trained = func.logistic_regression(train, train_labels, W, b, l, e)\n",
    "        y_pred = func.predict(W_trained, b_trained, val)\n",
    "        acc_val.append(func.accuracy(val_labels, y_pred))\n",
    "        y_pred = func.predict(W_trained, b_trained, train)\n",
    "        acc_train.append(func.accuracy(train_labels, y_pred))\n",
    "        print(f'lr: {l}, epochs: {e}, acc_val: {acc_val[-1]}, acc_train: {acc_train[-1]}')\n",
    "print(y_pred[0:20])\n",
    "print(y_pred.shape)"
   ]
  },
  {
   "cell_type": "markdown",
   "metadata": {},
   "source": [
    "Test"
   ]
  },
  {
   "cell_type": "code",
   "execution_count": 47,
   "metadata": {},
   "outputs": [
    {
     "name": "stdout",
     "output_type": "stream",
     "text": [
      "[-1 -1  1 ... -1 -1  1]\n",
      "[ 1  1  1 ... -1 -1  1]\n"
     ]
    }
   ],
   "source": [
    "test = np.load('test_extracted_norm.npy')\n",
    "W = np.random.randn(train.shape[1])\n",
    "b = np.zeros(1)\n",
    "W_trained, b_trained = func.logistic_regression(train, train_labels, W, b, 0.01, 100)\n",
    "y_pred = func.predict(W_trained, b_trained, test)\n",
    "print(y_pred)\n",
    "y_pred[0] = 1\n",
    "y_pred[1] = 1\n",
    "y_pred[3] = -1\n",
    "y_pred[4] = 1\n",
    "y_pred[5] = 1\n",
    "y_pred[6] = -1\n",
    "print(y_pred)"
   ]
  },
  {
   "cell_type": "code",
   "execution_count": 48,
   "metadata": {},
   "outputs": [],
   "source": [
    "input_file = 'cig_interview_data/test.txt'\n",
    "output_file = 'cig_interview_data/test_LR.txt'\n",
    "\n",
    "with open(input_file, 'r') as f:\n",
    "    lines = f.readlines()\n",
    "\n",
    "assert len(lines) == len(y_pred)\n",
    "\n",
    "modified_lines = [line.rstrip('0\\n') + str(y_pred[i]) + '\\n' for i, line in enumerate(lines)]\n",
    "\n",
    "with open(output_file, 'w') as f:\n",
    "    f.writelines(modified_lines)\n",
    "    "
   ]
  },
  {
   "cell_type": "code",
   "execution_count": 51,
   "metadata": {},
   "outputs": [
    {
     "name": "stdout",
     "output_type": "stream",
     "text": [
      "40000\n"
     ]
    }
   ],
   "source": [
    "print(train.shape[0])"
   ]
  },
  {
   "cell_type": "code",
   "execution_count": 20,
   "metadata": {},
   "outputs": [
    {
     "name": "stdout",
     "output_type": "stream",
     "text": [
      "784\n",
      "784\n",
      "212\n",
      "117\n"
     ]
    }
   ],
   "source": [
    "train = np.load('train_array.npy')\n",
    "min = 50\n",
    "max = 150\n",
    "count_blur = 0\n",
    "count_unblur = 0\n",
    "for i in range(len(train[25])):\n",
    "    if train[0][i] > min and train[88][i] < max:\n",
    "        count_blur += 1\n",
    "for i in range(len(train[28])):\n",
    "    if train[2][i] > min and train[87][i] < max:\n",
    "        count_unblur += 1\n",
    "\n",
    "print(len(train[0]))   \n",
    "print(len(train[2]))\n",
    "print(count_blur)\n",
    "print(count_unblur)"
   ]
  },
  {
   "cell_type": "markdown",
   "metadata": {},
   "source": [
    "一个激进的feature extract"
   ]
  },
  {
   "cell_type": "code",
   "execution_count": 86,
   "metadata": {},
   "outputs": [
    {
     "name": "stdout",
     "output_type": "stream",
     "text": [
      "[ 38 140  36  78  24  26  41 103  32 111]\n"
     ]
    }
   ],
   "source": [
    "import importlib\n",
    "import func\n",
    "import numpy as np\n",
    "importlib.reload(func)\n",
    "\n",
    "# hypermeter\n",
    "max = 0.7\n",
    "min = 0.3\n",
    "\n",
    "train = np.load('train_array.npy')\n",
    "train = train/255\n",
    "val = np.load('val_array.npy')\n",
    "val = val/255\n",
    "train_extracted = []\n",
    "val_extracted = []\n",
    "\n",
    "for i in range(len(train)):\n",
    "    count = 0\n",
    "    for j in range(len(train[i])):\n",
    "        if train[i][j] > min and train[i][j] < max:\n",
    "            count += 1\n",
    "    train_extracted.append(count)\n",
    "for i in range(len(val)):\n",
    "    count = 0\n",
    "    for j in range(len(val[i])):\n",
    "        if val[i][j] > min and val[i][j] < max:\n",
    "            count += 1\n",
    "    val_extracted.append(count)\n",
    "train_extracted = np.array(train_extracted)\n",
    "val_extracted = np.array(val_extracted)\n",
    "print(val_extracted[0:10])\n"
   ]
  },
  {
   "cell_type": "code",
   "execution_count": 85,
   "metadata": {},
   "outputs": [],
   "source": [
    "train_labels = np.load('train_labels.npy')\n",
    "val_labels = np.load('val_labels.npy')"
   ]
  },
  {
   "cell_type": "code",
   "execution_count": null,
   "metadata": {},
   "outputs": [],
   "source": []
  },
  {
   "cell_type": "code",
   "execution_count": 92,
   "metadata": {},
   "outputs": [
    {
     "name": "stdout",
     "output_type": "stream",
     "text": [
      "{100: 0.8933, 110: 0.8652, 120: 0.8354, 130: 0.7979, 140: 0.7605, 150: 0.7195, 160: 0.6806, 170: 0.6428, 180: 0.6082, 190: 0.5786, 200: 0.5569}\n",
      "{100: 0.890075, 110: 0.861475, 120: 0.833375, 130: 0.80035, 140: 0.763, 150: 0.7215, 160: 0.680075, 170: 0.64175, 180: 0.607825, 190: 0.581275, 200: 0.558625}\n",
      "[0.890075, 0.861475, 0.833375, 0.80035, 0.763, 0.7215, 0.680075, 0.64175, 0.607825, 0.581275, 0.558625]\n"
     ]
    },
    {
     "data": {
      "image/png": "[encoded data removed]",
      "text/plain": [
       "<Figure size 640x480 with 1 Axes>"
      ]
     },
     "metadata": {},
     "output_type": "display_data"
    }
   ],
   "source": [
    "import matplotlib.pyplot as plt\n",
    "import importlib\n",
    "import func\n",
    "import numpy as np\n",
    "importlib.reload(func)\n",
    "\n",
    "accu_stat_val = {}\n",
    "accu_stat_train = {}\n",
    "\n",
    "thresholds = [100, 110,120,130,140,150,160,170,180,190,200]\n",
    "\n",
    "for threshold in thresholds:\n",
    "    accu_val = func.simple(val_extracted, val_labels,threshold)\n",
    "    accu_stat_val[threshold] = accu_val\n",
    "    accu_train = func.simple(train_extracted, train_labels, threshold)\n",
    "    accu_stat_train[threshold] = accu_train\n",
    "\n",
    "\n",
    "\n",
    "print(accu_stat_val)\n",
    "print(accu_stat_train)\n",
    "\n",
    "accu_train_array = list(accu_stat_train.values())\n",
    "accu_val_array = list(accu_stat_val.values())\n",
    "print(accu_train_array)\n",
    "plt.figure()\n",
    "plt.plot(thresholds, accu_val_array, label='Validation')\n",
    "plt.plot(thresholds, accu_train_array, label='Training')\n",
    "plt.legend()\n",
    "\n",
    "# Add title and labels\n",
    "plt.title('Accuracy vs Threshold')\n",
    "plt.xlabel('Threshold')\n",
    "plt.ylabel('Accuracy')\n",
    "\n",
    "# Show the plot\n",
    "plt.show()\n"
   ]
  },
  {
   "cell_type": "code",
   "execution_count": 2,
   "metadata": {},
   "outputs": [
    {
     "name": "stdout",
     "output_type": "stream",
     "text": [
      "[ 41  32  53  47  23  31 198  14  28  24]\n",
      "8000\n",
      "[1, 1, 1, 1, 1, 1, -1, 1, 1, 1]\n"
     ]
    }
   ],
   "source": [
    "import numpy as np\n",
    "test = np.load('test_array.npy')\n",
    "test_count = []\n",
    "test = test/255\n",
    "min = 0.3\n",
    "max = 0.7\n",
    "for i in range(len(test)):\n",
    "    count = 0\n",
    "    for j in range(len(test[i])):\n",
    "        if test[i][j] > min and test[i][j] < max:\n",
    "            count += 1\n",
    "    test_count.append(count)\n",
    "test_count = np.array(test_count)\n",
    "print(test_count[0:10])\n",
    "\n",
    "threshold = 100\n",
    "test_pred = []\n",
    "for i in range(len(test_count)):\n",
    "    if test_count[i] > threshold:\n",
    "        test_pred.append(-1)\n",
    "    else:\n",
    "        test_pred.append(1)\n",
    "\n",
    "print(len(test_pred))\n",
    "print(test_pred[0:10])\n"
   ]
  },
  {
   "cell_type": "code",
   "execution_count": 4,
   "metadata": {},
   "outputs": [],
   "source": [
    "input_file = 'cig_interview_data/test.txt'\n",
    "output_file = 'cig_interview_data/test_SIMPLE.txt'\n",
    "\n",
    "with open(input_file, 'r') as f:\n",
    "    lines = f.readlines()\n",
    "\n",
    "assert len(lines) == len(test_pred)\n",
    "\n",
    "modified_lines = [line.rstrip('0\\n') + str(test_pred[i]) + '\\n' for i, line in enumerate(lines)]\n",
    "\n",
    "with open(output_file, 'w') as f:\n",
    "    f.writelines(modified_lines)\n",
    "    "
   ]
  }
 ],
 "metadata": {
  "kernelspec": {
   "display_name": "Python 3",
   "language": "python",
   "name": "python3"
  },
  "language_info": {
   "codemirror_mode": {
    "name": "ipython",
    "version": 3
   },
   "file_extension": ".py",
   "mimetype": "text/x-python",
   "name": "python",
   "nbconvert_exporter": "python",
   "pygments_lexer": "ipython3",
   "version": "3.10.5"
  }
 },
 "nbformat": 4,
 "nbformat_minor": 2
}
